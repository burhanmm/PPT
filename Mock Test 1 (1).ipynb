{
 "cells": [
  {
   "cell_type": "markdown",
   "id": "7d8a2833-dfc9-4543-95b0-951cdbab5086",
   "metadata": {},
   "source": [
    "Q1. Move Zeroes\n",
    "Given an integer array nums, move all 0's to the end of it while maintaining the relative order of the non-zero elements.\n",
    "\n",
    "Note that you must do this in-place without making a copy of the array.\n",
    "\n",
    "Example 1:\n",
    "Input: nums = [0,1,0,3,12]\n",
    "Output: [1,3,12,0,0]\n",
    "\n",
    "Example 2:\n",
    "Input: nums = [0]\n",
    "Output: [0]\n",
    "\n",
    "Constraints:\n",
    "a. 1 <= nums.length <= 10^4\n",
    "b. -2^31 <= nums[i] <= 2^31 - 1"
   ]
  },
  {
   "cell_type": "code",
   "execution_count": 34,
   "id": "e85b7560-c5b2-4ef8-92c8-8bc65e1cfe3a",
   "metadata": {},
   "outputs": [],
   "source": [
    "def move_zeroes(nums: list) -> None:\n",
    "    slow = 0\n",
    "    for fast in range(len(nums)):\n",
    "        if nums[fast] != 0:\n",
    "            nums[slow], nums[fast] = nums[fast], nums[slow]\n",
    "            slow += 1"
   ]
  },
  {
   "cell_type": "code",
   "execution_count": 35,
   "id": "58de909b-3873-4917-bdc1-71fe8b443668",
   "metadata": {},
   "outputs": [
    {
     "name": "stdout",
     "output_type": "stream",
     "text": [
      "Example 1 Input:[0,1,0,3,12] =  [1, 3, 12, 0, 0]\n"
     ]
    },
    {
     "ename": "TypeError",
     "evalue": "move_zeroes() takes 1 positional argument but 2 were given",
     "output_type": "error",
     "traceback": [
      "\u001b[0;31m---------------------------------------------------------------------------\u001b[0m",
      "\u001b[0;31mTypeError\u001b[0m                                 Traceback (most recent call last)",
      "Cell \u001b[0;32mIn[35], line 6\u001b[0m\n\u001b[1;32m      3\u001b[0m \u001b[38;5;28mprint\u001b[39m(\u001b[38;5;124m\"\u001b[39m\u001b[38;5;124mExample 1 Input:[0,1,0,3,12] = \u001b[39m\u001b[38;5;124m\"\u001b[39m,nums1)\n\u001b[1;32m      5\u001b[0m nums2 \u001b[38;5;241m=\u001b[39m [\u001b[38;5;241m0\u001b[39m]\n\u001b[0;32m----> 6\u001b[0m \u001b[43mmove_zeroes\u001b[49m\u001b[43m(\u001b[49m\u001b[38;5;124;43m\"\u001b[39;49m\u001b[38;5;124;43mExample 2: Input: [0] = \u001b[39;49m\u001b[38;5;124;43m\"\u001b[39;49m\u001b[43m,\u001b[49m\u001b[43mnums2\u001b[49m\u001b[43m)\u001b[49m\n\u001b[1;32m      7\u001b[0m \u001b[38;5;28mprint\u001b[39m(nums2)\n",
      "\u001b[0;31mTypeError\u001b[0m: move_zeroes() takes 1 positional argument but 2 were given"
     ]
    }
   ],
   "source": [
    "nums1 = [0,1,0,3,12] \n",
    "move_zeroes(nums1)\n",
    "print(\"Example 1 Input:[0,1,0,3,12] = \",nums1)\n",
    "\n",
    "nums2 = [0]\n",
    "move_zeroes(nums2)\n",
    "print(\"Example 2: Input: [0] = \",nums2)"
   ]
  },
  {
   "cell_type": "markdown",
   "id": "99f0e932-9c3b-4676-89f4-30cae325170c",
   "metadata": {},
   "source": [
    "Q2. First Unique Character in a String\n",
    "\n",
    "Given a string s, find the first non-repeating character in it and return its index. If it does not exist, return -1.\n",
    "\n",
    "Example 1:\n",
    "Input: s = \"leetcode\"\n",
    "Output: 0\n",
    "\n",
    "Example 2:\n",
    "Input: s = \"loveleetcode\"\n",
    "Output: 2\n",
    "\n",
    "Example 3:\n",
    "Input: s = \"aabb\"\n",
    "Output: -1\n",
    "\n",
    "Constraints:\n",
    "a. 1 <= s.length <= 10^5\n",
    "b. s consists of only lowercase English letters."
   ]
  },
  {
   "cell_type": "code",
   "execution_count": 24,
   "id": "00c30411-0ded-41e6-8d7c-1d7111b7ec56",
   "metadata": {},
   "outputs": [],
   "source": [
    "def firstUniqChar(s: str) -> int:\n",
    "    freq = {}  \n",
    "    for char in s:\n",
    "        freq[char] = freq.get(char, 0) + 1\n",
    "    for i, char in enumerate(s):\n",
    "        if freq[char] == 1:\n",
    "            return i\n",
    "    return -1 "
   ]
  },
  {
   "cell_type": "code",
   "execution_count": 25,
   "id": "1d5779d9-ecc6-426e-8d5f-8fb244784e15",
   "metadata": {},
   "outputs": [
    {
     "name": "stdout",
     "output_type": "stream",
     "text": [
      "Example 1 : 0\n",
      "Example 2 : 2\n",
      "Example 3 : -1\n"
     ]
    }
   ],
   "source": [
    "\n",
    "s = \"leetcode\"\n",
    "print(\"Example 1 :\",firstUniqChar(s)) \n",
    "\n",
    "s = \"loveleetcode\"\n",
    "print(\"Example 2 :\",firstUniqChar(s))  \n",
    "\n",
    "s = \"aabb\"\n",
    "print(\"Example 3 :\",firstUniqChar(s))  \n"
   ]
  },
  {
   "cell_type": "code",
   "execution_count": null,
   "id": "35666964-1857-4a34-83f6-eb783062c0f4",
   "metadata": {},
   "outputs": [],
   "source": []
  }
 ],
 "metadata": {
  "kernelspec": {
   "display_name": "Python 3 (ipykernel)",
   "language": "python",
   "name": "python3"
  },
  "language_info": {
   "codemirror_mode": {
    "name": "ipython",
    "version": 3
   },
   "file_extension": ".py",
   "mimetype": "text/x-python",
   "name": "python",
   "nbconvert_exporter": "python",
   "pygments_lexer": "ipython3",
   "version": "3.10.8"
  }
 },
 "nbformat": 4,
 "nbformat_minor": 5
}
